{
 "cells": [
  {
   "cell_type": "markdown",
   "id": "bfa25fed",
   "metadata": {},
   "source": [
    "1. Say \"Hello, World!\" With Python"
   ]
  },
  {
   "cell_type": "code",
   "execution_count": 1,
   "id": "6bf7dd69",
   "metadata": {},
   "outputs": [
    {
     "name": "stdout",
     "output_type": "stream",
     "text": [
      "Hello, World!\n"
     ]
    }
   ],
   "source": [
    "print(\"Hello, World!\")"
   ]
  },
  {
   "cell_type": "markdown",
   "id": "5bd9fef8",
   "metadata": {},
   "source": [
    "2. Python if-Else\n"
   ]
  },
  {
   "cell_type": "markdown",
   "id": "1a4d2bf8",
   "metadata": {},
   "source": [
    "#Given an integer, , perform the following conditional actions:\n",
    "\n",
    "1. If  is odd, print Weird\n",
    "2. If  is even and in the inclusive range of 2 to 5 , print Not Weird\n",
    "3. If  is even and in the inclusive range of 6 to 20 , print Weird\n",
    "4. If  is even and greater than 20 , print Not Weird"
   ]
  },
  {
   "cell_type": "code",
   "execution_count": 5,
   "id": "c9562d7d",
   "metadata": {},
   "outputs": [
    {
     "name": "stdout",
     "output_type": "stream",
     "text": [
      "24\n",
      "Not Weird\n"
     ]
    }
   ],
   "source": [
    "def wierd(n):\n",
    "    if n % 2 == 1 or 6 <= n <= 20:\n",
    "        print(\"Weird\")\n",
    "    else:\n",
    "        print(\"Not Weird\")\n",
    "        \n",
    "wierd(int(input()))"
   ]
  },
  {
   "cell_type": "markdown",
   "id": "ab893b78",
   "metadata": {},
   "source": [
    "3. Arithmetic Operators"
   ]
  },
  {
   "cell_type": "markdown",
   "id": "f3b12643",
   "metadata": {},
   "source": [
    "#The provided code stub reads two integers from STDIN, a and b. Add code to print three lines where:\n",
    "\n",
    "1. The first line contains the sum of the two numbers.\n",
    "2. The second line contains the difference of the two numbers (first - second).\n",
    "3. The third line contains the product of the two numbers."
   ]
  },
  {
   "cell_type": "code",
   "execution_count": 6,
   "id": "60ccc7ca",
   "metadata": {},
   "outputs": [
    {
     "name": "stdout",
     "output_type": "stream",
     "text": [
      "3\n",
      "5\n",
      "8\n",
      "-2\n",
      "15\n"
     ]
    }
   ],
   "source": [
    "a = int(input()) #3\n",
    "b = int(input()) #5\n",
    "print(a+b) #3+5=8\n",
    "print(a-b) #3-5=-2\n",
    "print(a*b) #3*5=15"
   ]
  },
  {
   "cell_type": "code",
   "execution_count": 7,
   "id": "b0a8af48",
   "metadata": {},
   "outputs": [
    {
     "name": "stdout",
     "output_type": "stream",
     "text": [
      "3\n",
      "2\n",
      "5\n",
      "1\n",
      "6\n"
     ]
    }
   ],
   "source": [
    "a, b =int(input()), int(input())\n",
    "print((a+b), (a-b), (a*b), sep='\\n')"
   ]
  },
  {
   "cell_type": "code",
   "execution_count": 8,
   "id": "f3b66d95",
   "metadata": {},
   "outputs": [],
   "source": [
    "#3 2\n",
    "#3+2=5, 3-2=1, 3*2=6"
   ]
  },
  {
   "cell_type": "markdown",
   "id": "4f87a103",
   "metadata": {},
   "source": [
    "2.Division"
   ]
  },
  {
   "cell_type": "markdown",
   "id": "b3349aee",
   "metadata": {},
   "source": [
    "#The provided code stub reads two integers, a and b, from STDIN.\n",
    "\n",
    "1. Add logic to print two lines. The first line should contain the result of integer division, a // b . The second line should contain the result of float division, a / b .\n",
    "\n",
    "2. No rounding or formatting is necessary."
   ]
  },
  {
   "cell_type": "code",
   "execution_count": 11,
   "id": "77cb80d9",
   "metadata": {},
   "outputs": [
    {
     "name": "stdout",
     "output_type": "stream",
     "text": [
      "3\n",
      "5\n",
      "0\n",
      "0.6\n"
     ]
    }
   ],
   "source": [
    "a, b = int(input()), int(input())\n",
    "print((a//b), (a/b), sep='\\n')"
   ]
  },
  {
   "cell_type": "code",
   "execution_count": 12,
   "id": "ea0d774d",
   "metadata": {},
   "outputs": [],
   "source": [
    "# 3 5\n",
    "# 3//5 = 0 (rem)\n",
    "# 3/5 = 0.6 (quotient)"
   ]
  },
  {
   "cell_type": "code",
   "execution_count": 13,
   "id": "54215922",
   "metadata": {},
   "outputs": [
    {
     "name": "stdout",
     "output_type": "stream",
     "text": [
      "4\n",
      "3\n",
      "1\n",
      "1.3333333333333333\n"
     ]
    }
   ],
   "source": [
    "a = int(input())\n",
    "b = int(input())\n",
    "print(a//b)\n",
    "print(a/b)"
   ]
  },
  {
   "cell_type": "markdown",
   "id": "cfc0e0f0",
   "metadata": {},
   "source": [
    "# 4 3\n",
    "# 4//3 = 1\n",
    "# 4/3 = 1.33333333"
   ]
  },
  {
   "cell_type": "markdown",
   "id": "adecacf4",
   "metadata": {},
   "source": [
    "4. LOOPS"
   ]
  },
  {
   "cell_type": "code",
   "execution_count": 14,
   "id": "6a1da283",
   "metadata": {},
   "outputs": [],
   "source": [
    "#The provided code stub reads and integer,n , from STDIN. For all non-negative integers i<n, print i2.\n",
    "# The list of non-negative integers that are less than n =3 is[0,1,2] . Print the square of each number on a separate line."
   ]
  },
  {
   "cell_type": "code",
   "execution_count": 19,
   "id": "4ccc01a2",
   "metadata": {},
   "outputs": [
    {
     "name": "stdout",
     "output_type": "stream",
     "text": [
      "3\n",
      "0\n",
      "1\n",
      "4\n"
     ]
    }
   ],
   "source": [
    "for i in range(int(input ())):\n",
    "    print(i ** 2)"
   ]
  },
  {
   "cell_type": "markdown",
   "id": "32142619",
   "metadata": {},
   "source": [
    "5. PrintFunction"
   ]
  },
  {
   "cell_type": "markdown",
   "id": "d2928a5c",
   "metadata": {},
   "source": [
    "#The included code stub will read an integer,n , from STDIN.\n",
    "1. Without using any string methods, try to print the following:\n",
    "123 ... n\n",
    "2. Note that \"...\" represents the consecutive values in between.\n",
    "3. Example : n=5\n",
    "4. Print the string 12345 ."
   ]
  },
  {
   "cell_type": "code",
   "execution_count": 21,
   "id": "53d897d8",
   "metadata": {},
   "outputs": [
    {
     "name": "stdout",
     "output_type": "stream",
     "text": [
      "5\n",
      "12345"
     ]
    }
   ],
   "source": [
    "for i in range(1, int(input()) + 1):\n",
    "    print(i, end='')"
   ]
  },
  {
   "cell_type": "code",
   "execution_count": 22,
   "id": "41573c3d",
   "metadata": {},
   "outputs": [],
   "source": [
    "# 1\n",
    "# 1+1 = 2\n",
    "# 2+1 = 3\n",
    "# 3+1 = 4\n",
    "# 4+1 = 5"
   ]
  },
  {
   "cell_type": "markdown",
   "id": "89cc61ac",
   "metadata": {},
   "source": [
    "7. Write a function"
   ]
  },
  {
   "cell_type": "markdown",
   "id": "bf336454",
   "metadata": {},
   "source": [
    "#1.An extra day is added to the calendar almost every four years as February 29, and the day is called a leap day. It corrects the calendar for the fact that our planet takes approximately 365.25 days to orbit the sun. A leap year contains a leap day.\n",
    "#2.In the Gregorian calendar, three conditions are used to identify leap years:\n",
    "#3. The year can be evenly divided by 4, is a leap year, unless:\n",
    "#4. The year can be evenly divided by 100, it is NOT a leap year, unless:\n",
    "#5. The year is also evenly divisible by 400. Then it is a leap year.\n",
    "#6. This means that in the Gregorian calendar, the years 2000 and 2400 are leap years, while 1800, 1900, 2100, 2200, 2300 and 2500 are NOT leap years. Source"
   ]
  },
  {
   "cell_type": "markdown",
   "id": "c939fe46",
   "metadata": {},
   "source": [
    "#Given a year, determine whether it is a leap year. If it is a leap year, return the Boolean True, otherwise return False.\n",
    "#Note that the code stub provided reads from STDIN and passes arguments to the is_leap function. It is only necessary to complete the is_leap function."
   ]
  },
  {
   "cell_type": "code",
   "execution_count": 25,
   "id": "b1905fbf",
   "metadata": {},
   "outputs": [],
   "source": [
    "def is_leap(x):\n",
    "    return y%4 == 0 and (y % 100 != 0 or y % 400 == 0)"
   ]
  },
  {
   "cell_type": "code",
   "execution_count": null,
   "id": "2d97fd0a",
   "metadata": {},
   "outputs": [],
   "source": []
  }
 ],
 "metadata": {
  "kernelspec": {
   "display_name": "Python 3 (ipykernel)",
   "language": "python",
   "name": "python3"
  },
  "language_info": {
   "codemirror_mode": {
    "name": "ipython",
    "version": 3
   },
   "file_extension": ".py",
   "mimetype": "text/x-python",
   "name": "python",
   "nbconvert_exporter": "python",
   "pygments_lexer": "ipython3",
   "version": "3.9.13"
  }
 },
 "nbformat": 4,
 "nbformat_minor": 5
}
